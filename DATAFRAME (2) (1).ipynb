{
 "cells": [
  {
   "cell_type": "markdown",
   "id": "e61a2d31",
   "metadata": {},
   "source": [
    "1.Download the dataset"
   ]
  },
  {
   "cell_type": "code",
   "execution_count": 33,
   "id": "48a858d3",
   "metadata": {},
   "outputs": [],
   "source": [
    "import pandas as pd\n",
    "import numpy as np \n",
    "import seaborn as sns\n",
    "import matplotlib.pyplot as plt\n",
    "from sklearn.linear_model import LinearRegression"
   ]
  },
  {
   "cell_type": "code",
   "execution_count": 3,
   "id": "c6e5920b",
   "metadata": {},
   "outputs": [
    {
     "data": {
      "text/html": [
       "<div>\n",
       "<style scoped>\n",
       "    .dataframe tbody tr th:only-of-type {\n",
       "        vertical-align: middle;\n",
       "    }\n",
       "\n",
       "    .dataframe tbody tr th {\n",
       "        vertical-align: top;\n",
       "    }\n",
       "\n",
       "    .dataframe thead th {\n",
       "        text-align: right;\n",
       "    }\n",
       "</style>\n",
       "<table border=\"1\" class=\"dataframe\">\n",
       "  <thead>\n",
       "    <tr style=\"text-align: right;\">\n",
       "      <th></th>\n",
       "      <th>input</th>\n",
       "      <th>output</th>\n",
       "    </tr>\n",
       "  </thead>\n",
       "  <tbody>\n",
       "    <tr>\n",
       "      <th>0</th>\n",
       "      <td>-122.740667</td>\n",
       "      <td>-130.572085</td>\n",
       "    </tr>\n",
       "    <tr>\n",
       "      <th>1</th>\n",
       "      <td>-121.531419</td>\n",
       "      <td>-129.938929</td>\n",
       "    </tr>\n",
       "    <tr>\n",
       "      <th>2</th>\n",
       "      <td>-134.917019</td>\n",
       "      <td>-130.141832</td>\n",
       "    </tr>\n",
       "    <tr>\n",
       "      <th>3</th>\n",
       "      <td>-120.605951</td>\n",
       "      <td>-125.760932</td>\n",
       "    </tr>\n",
       "    <tr>\n",
       "      <th>4</th>\n",
       "      <td>-129.894781</td>\n",
       "      <td>-112.785214</td>\n",
       "    </tr>\n",
       "  </tbody>\n",
       "</table>\n",
       "</div>"
      ],
      "text/plain": [
       "        input      output\n",
       "0 -122.740667 -130.572085\n",
       "1 -121.531419 -129.938929\n",
       "2 -134.917019 -130.141832\n",
       "3 -120.605951 -125.760932\n",
       "4 -129.894781 -112.785214"
      ]
     },
     "execution_count": 3,
     "metadata": {},
     "output_type": "execute_result"
    }
   ],
   "source": [
    "df= pd.read_csv(\"dataframe_.csv\")\n",
    "df.head(5)"
   ]
  },
  {
   "cell_type": "markdown",
   "id": "acc2fee9",
   "metadata": {},
   "source": [
    "2.Analysis of Data"
   ]
  },
  {
   "cell_type": "code",
   "execution_count": 4,
   "id": "29cdc47e",
   "metadata": {},
   "outputs": [
    {
     "data": {
      "text/plain": [
       "(1697, 2)"
      ]
     },
     "execution_count": 4,
     "metadata": {},
     "output_type": "execute_result"
    }
   ],
   "source": [
    "df.shape"
   ]
  },
  {
   "cell_type": "code",
   "execution_count": 5,
   "id": "3020307d",
   "metadata": {},
   "outputs": [
    {
     "data": {
      "text/plain": [
       "Index(['input', 'output'], dtype='object')"
      ]
     },
     "execution_count": 5,
     "metadata": {},
     "output_type": "execute_result"
    }
   ],
   "source": [
    "df.columns"
   ]
  },
  {
   "cell_type": "code",
   "execution_count": 6,
   "id": "4fc2212a",
   "metadata": {},
   "outputs": [
    {
     "data": {
      "text/plain": [
       "input     float64\n",
       "output    float64\n",
       "dtype: object"
      ]
     },
     "execution_count": 6,
     "metadata": {},
     "output_type": "execute_result"
    }
   ],
   "source": [
    "df.dtypes"
   ]
  },
  {
   "cell_type": "code",
   "execution_count": 7,
   "id": "57c2584c",
   "metadata": {},
   "outputs": [
    {
     "data": {
      "text/plain": [
       "input     1\n",
       "output    1\n",
       "dtype: int64"
      ]
     },
     "execution_count": 7,
     "metadata": {},
     "output_type": "execute_result"
    }
   ],
   "source": [
    "df.isnull().sum()"
   ]
  },
  {
   "cell_type": "code",
   "execution_count": 8,
   "id": "25d2aa19",
   "metadata": {},
   "outputs": [
    {
     "name": "stdout",
     "output_type": "stream",
     "text": [
      "<class 'pandas.core.frame.DataFrame'>\n",
      "RangeIndex: 1697 entries, 0 to 1696\n",
      "Data columns (total 2 columns):\n",
      " #   Column  Non-Null Count  Dtype  \n",
      "---  ------  --------------  -----  \n",
      " 0   input   1696 non-null   float64\n",
      " 1   output  1696 non-null   float64\n",
      "dtypes: float64(2)\n",
      "memory usage: 26.6 KB\n"
     ]
    }
   ],
   "source": [
    "df.info()"
   ]
  },
  {
   "cell_type": "code",
   "execution_count": 9,
   "id": "6922935d",
   "metadata": {},
   "outputs": [
    {
     "data": {
      "text/html": [
       "<div>\n",
       "<style scoped>\n",
       "    .dataframe tbody tr th:only-of-type {\n",
       "        vertical-align: middle;\n",
       "    }\n",
       "\n",
       "    .dataframe tbody tr th {\n",
       "        vertical-align: top;\n",
       "    }\n",
       "\n",
       "    .dataframe thead th {\n",
       "        text-align: right;\n",
       "    }\n",
       "</style>\n",
       "<table border=\"1\" class=\"dataframe\">\n",
       "  <thead>\n",
       "    <tr style=\"text-align: right;\">\n",
       "      <th></th>\n",
       "      <th>input</th>\n",
       "      <th>output</th>\n",
       "    </tr>\n",
       "  </thead>\n",
       "  <tbody>\n",
       "    <tr>\n",
       "      <th>count</th>\n",
       "      <td>1696.000000</td>\n",
       "      <td>1696.000000</td>\n",
       "    </tr>\n",
       "    <tr>\n",
       "      <th>mean</th>\n",
       "      <td>1.159933</td>\n",
       "      <td>-34.088017</td>\n",
       "    </tr>\n",
       "    <tr>\n",
       "      <th>std</th>\n",
       "      <td>79.005970</td>\n",
       "      <td>65.771112</td>\n",
       "    </tr>\n",
       "    <tr>\n",
       "      <th>min</th>\n",
       "      <td>-134.962839</td>\n",
       "      <td>-132.422167</td>\n",
       "    </tr>\n",
       "    <tr>\n",
       "      <th>25%</th>\n",
       "      <td>-63.386506</td>\n",
       "      <td>-80.026767</td>\n",
       "    </tr>\n",
       "    <tr>\n",
       "      <th>50%</th>\n",
       "      <td>10.195194</td>\n",
       "      <td>-50.470981</td>\n",
       "    </tr>\n",
       "    <tr>\n",
       "      <th>75%</th>\n",
       "      <td>70.264109</td>\n",
       "      <td>-11.000000</td>\n",
       "    </tr>\n",
       "    <tr>\n",
       "      <th>max</th>\n",
       "      <td>134.605775</td>\n",
       "      <td>134.425495</td>\n",
       "    </tr>\n",
       "  </tbody>\n",
       "</table>\n",
       "</div>"
      ],
      "text/plain": [
       "             input       output\n",
       "count  1696.000000  1696.000000\n",
       "mean      1.159933   -34.088017\n",
       "std      79.005970    65.771112\n",
       "min    -134.962839  -132.422167\n",
       "25%     -63.386506   -80.026767\n",
       "50%      10.195194   -50.470981\n",
       "75%      70.264109   -11.000000\n",
       "max     134.605775   134.425495"
      ]
     },
     "execution_count": 9,
     "metadata": {},
     "output_type": "execute_result"
    }
   ],
   "source": [
    "df.describe()"
   ]
  },
  {
   "cell_type": "code",
   "execution_count": 10,
   "id": "c2442b17",
   "metadata": {},
   "outputs": [],
   "source": [
    "df.dropna(inplace=True)"
   ]
  },
  {
   "cell_type": "code",
   "execution_count": 11,
   "id": "65447f2f",
   "metadata": {},
   "outputs": [
    {
     "data": {
      "image/png": "[encoded data removed]",
      "text/plain": [
       "<Figure size 640x480 with 4 Axes>"
      ]
     },
     "metadata": {},
     "output_type": "display_data"
    }
   ],
   "source": [
    "...\n",
    "# box and whisker plots\n",
    "df.plot(kind='box', subplots=True, layout=(2,2), sharex=False, sharey=False)\n",
    "plt.show()"
   ]
  },
  {
   "cell_type": "code",
   "execution_count": 12,
   "id": "0f13d44e",
   "metadata": {},
   "outputs": [
    {
     "data": {
      "image/png": "[encoded data removed]",
      "text/plain": [
       "<Figure size 640x480 with 2 Axes>"
      ]
     },
     "metadata": {},
     "output_type": "display_data"
    }
   ],
   "source": [
    "# histograms\n",
    "df.hist()\n",
    "plt.show()"
   ]
  },
  {
   "cell_type": "markdown",
   "id": "fa63214f",
   "metadata": {},
   "source": [
    "3.Building a Model"
   ]
  },
  {
   "cell_type": "code",
   "execution_count": 13,
   "id": "aba8e49d",
   "metadata": {},
   "outputs": [],
   "source": [
    "X=df['input'].values.reshape((-1,1))\n",
    "y=df['output'].values.reshape((-1,1))"
   ]
  },
  {
   "cell_type": "code",
   "execution_count": 14,
   "id": "395f8209",
   "metadata": {},
   "outputs": [],
   "source": [
    "#ML Model\n",
    "\n",
    "import warnings\n",
    "warnings.filterwarnings('ignore')\n",
    "from sklearn import preprocessing\n",
    "from sklearn import utils\n"
   ]
  },
  {
   "cell_type": "code",
   "execution_count": 15,
   "id": "de12511f",
   "metadata": {},
   "outputs": [],
   "source": [
    "lab=preprocessing.LabelEncoder()\n",
    "y_transformed=lab.fit_transform(y)"
   ]
  },
  {
   "cell_type": "code",
   "execution_count": 16,
   "id": "66cacd04",
   "metadata": {},
   "outputs": [],
   "source": [
    "from sklearn.model_selection import train_test_split\n",
    "X_train,X_test,y_train,y_test = train_test_split(X,y_transformed,test_size=0.2,\n",
    "                                                 random_state=42)"
   ]
  },
  {
   "cell_type": "markdown",
   "id": "2b8ea16c",
   "metadata": {},
   "source": [
    "LOGISTIC REGRESSION"
   ]
  },
  {
   "cell_type": "code",
   "execution_count": 17,
   "id": "b088c1ab",
   "metadata": {},
   "outputs": [
    {
     "data": {
      "text/plain": [
       "LogisticRegression()"
      ]
     },
     "execution_count": 17,
     "metadata": {},
     "output_type": "execute_result"
    }
   ],
   "source": [
    "from sklearn.linear_model import LogisticRegression\n",
    "logr = LogisticRegression()\n",
    "logr.fit(X_train,y_train)\n",
    "\n"
   ]
  },
  {
   "cell_type": "code",
   "execution_count": 18,
   "id": "bd1ee609",
   "metadata": {},
   "outputs": [],
   "source": [
    "y_pred=logr.predict(X_test)"
   ]
  },
  {
   "cell_type": "code",
   "execution_count": 19,
   "id": "580a3d0c",
   "metadata": {},
   "outputs": [
    {
     "data": {
      "text/plain": [
       "array([230, 582, 582, 837, 837, 837, 230, 230, 582, 582, 230, 837, 837,\n",
       "       230, 230, 230, 960, 583, 837, 837, 582, 960, 230, 583, 582, 230,\n",
       "       960, 582, 837, 230, 960, 230, 230, 960, 230, 230, 837, 582, 837,\n",
       "       230, 230, 960, 230, 960, 230, 230, 230, 960, 230, 583, 583, 230,\n",
       "       960, 837, 230, 230, 230, 230, 230, 960, 230, 230, 230, 837, 230,\n",
       "       960, 230, 960, 230, 837, 230, 837, 837, 583, 230, 583, 230, 837,\n",
       "       837, 230, 230, 960, 837, 230, 582, 960, 230, 960, 837, 582, 582,\n",
       "       230, 582, 230, 960, 837, 960, 837, 230, 230, 230, 230, 230, 230,\n",
       "       230, 837, 230, 230, 960, 837, 230, 837, 960, 837, 230, 582, 230,\n",
       "       230, 230, 583, 230, 960, 837, 960, 837, 960, 960, 837, 837, 230,\n",
       "       960, 960, 230, 960, 230, 230, 230, 837, 583, 582, 230, 230, 230,\n",
       "       230, 230, 582, 837, 837, 960, 230, 230, 583, 837, 230, 837, 582,\n",
       "       230, 230, 837, 582, 583, 837, 230, 837, 230, 960, 960, 837, 837,\n",
       "       837, 230, 837, 837, 837, 230, 230, 230, 582, 583, 582, 230, 230,\n",
       "       230, 230, 230, 960, 837, 960, 583, 230, 583, 582, 837, 230, 582,\n",
       "       230, 230, 230, 837, 582, 582, 230, 960, 230, 582, 230, 230, 837,\n",
       "       230, 837, 960, 230, 230, 230, 837, 230, 960, 230, 837, 583, 837,\n",
       "       230, 582, 837, 230, 837, 230, 960, 583, 230, 837, 230, 230, 582,\n",
       "       230, 230, 960, 230, 230, 583, 960, 230, 230, 582, 230, 960, 230,\n",
       "       230, 837, 230, 837, 582, 230, 960, 582, 837, 230, 960, 960, 837,\n",
       "       582, 230, 230, 230, 837, 230, 837, 230, 230, 960, 837, 583, 230,\n",
       "       960, 960, 960, 960, 960, 960, 230, 837, 230, 230, 837, 837, 230,\n",
       "       230, 960, 230, 230, 960, 230, 837, 230, 230, 837, 960, 230, 230,\n",
       "       960, 230, 230, 230, 837, 582, 960, 960, 960, 837, 960, 837, 583,\n",
       "       837, 837, 960, 582, 230, 583, 583, 582, 582, 582, 230, 230, 230,\n",
       "       582, 837, 230, 960, 230, 582, 230, 230, 230, 837, 230, 837, 230,\n",
       "       837, 837], dtype=int64)"
      ]
     },
     "execution_count": 19,
     "metadata": {},
     "output_type": "execute_result"
    }
   ],
   "source": [
    "y_pred"
   ]
  },
  {
   "cell_type": "markdown",
   "id": "e804e2bf",
   "metadata": {},
   "source": [
    "RANDOM FOREST CLASSIFIER"
   ]
  },
  {
   "cell_type": "code",
   "execution_count": 20,
   "id": "27573a44",
   "metadata": {},
   "outputs": [],
   "source": [
    "from sklearn.ensemble import RandomForestClassifier"
   ]
  },
  {
   "cell_type": "code",
   "execution_count": 21,
   "id": "3669af33",
   "metadata": {},
   "outputs": [],
   "source": [
    "\n",
    "clf = RandomForestClassifier(n_estimators = 100)  "
   ]
  },
  {
   "cell_type": "code",
   "execution_count": 22,
   "id": "792ab5d6",
   "metadata": {},
   "outputs": [
    {
     "data": {
      "text/plain": [
       "RandomForestClassifier()"
      ]
     },
     "execution_count": 22,
     "metadata": {},
     "output_type": "execute_result"
    }
   ],
   "source": [
    "clf.fit(X_train,y_train)"
   ]
  },
  {
   "cell_type": "code",
   "execution_count": 23,
   "id": "d592439a",
   "metadata": {},
   "outputs": [],
   "source": [
    "y_pred=clf.predict(X_test)"
   ]
  },
  {
   "cell_type": "code",
   "execution_count": 24,
   "id": "8d934981",
   "metadata": {},
   "outputs": [
    {
     "data": {
      "text/plain": [
       "array([104, 422, 385, 896, 620, 834, 334,  33, 646, 504,  94, 957, 701,\n",
       "       267, 370, 340, 280, 488, 756, 839, 160, 168, 266, 489, 160, 104,\n",
       "        79, 279, 750, 383, 122, 643, 143,  83, 142, 573, 675, 450, 769,\n",
       "       371, 540, 923, 708, 109, 248, 249, 236, 109, 128, 539, 440, 363,\n",
       "       184, 862, 170,  53, 498, 208, 270, 240, 371, 511, 256, 674,  18,\n",
       "       403, 116, 117, 414, 787, 556, 650, 957, 397, 372, 531, 600, 957,\n",
       "       703, 109, 630, 269, 759, 143, 534, 139, 153, 132, 672, 580, 496,\n",
       "       247, 450,  19, 960, 632, 927, 736, 248, 451, 230, 326, 253, 230,\n",
       "       327, 794,  81, 120, 285, 427, 230, 761, 111, 734, 230, 466, 186,\n",
       "       342,  81,  82,  57, 387, 759, 923, 862, 960, 369, 837, 844, 647,\n",
       "       294, 401, 138, 255,  45, 426, 277, 703, 497, 440, 545, 589, 230,\n",
       "       248, 123, 440, 837, 670,  50, 428,  18, 408, 944, 109, 671, 593,\n",
       "       143, 444, 393, 592, 310, 964, 573, 775, 407,  15, 204, 756, 863,\n",
       "       936, 334, 834, 764, 777, 230, 367, 537, 356, 515, 534, 487, 109,\n",
       "        80,  35,  81, 342, 801, 139, 381, 186, 531, 569, 671, 158, 415,\n",
       "       545, 426, 223, 864, 604, 469, 271, 960, 373, 592,  67, 610, 772,\n",
       "       677, 606, 172, 389, 311, 109, 848, 628, 293, 272, 792, 424, 879,\n",
       "        38, 581, 937,  93, 464, 120, 928, 532,  95, 751,  56, 347, 541,\n",
       "       277, 156, 409, 386, 303, 461, 255, 192, 138, 577, 158,  96, 134,\n",
       "        40, 854, 475, 806, 590, 209, 403, 645, 839, 300, 255,   4, 876,\n",
       "       658,  81,  23, 334, 704,  70, 772, 231, 365, 122, 912, 420, 128,\n",
       "       290, 928, 908, 342, 923, 293, 214, 897, 304, 684, 756, 835, 268,\n",
       "       334, 353, 134, 143,   8, 557, 803,  98, 589, 780, 112, 188, 307,\n",
       "       382, 361, 289, 389, 767, 583,  12,   2, 960, 764,   0, 295, 429,\n",
       "       778, 707, 229, 507, 371, 531, 605, 518, 624, 404, 128, 241, 248,\n",
       "       419, 936, 277, 161, 311, 431, 272, 594, 576, 625, 395, 764, 211,\n",
       "       555, 861], dtype=int64)"
      ]
     },
     "execution_count": 24,
     "metadata": {},
     "output_type": "execute_result"
    }
   ],
   "source": [
    "y_pred"
   ]
  },
  {
   "cell_type": "markdown",
   "id": "04b9ca4e",
   "metadata": {},
   "source": [
    "SVM"
   ]
  },
  {
   "cell_type": "code",
   "execution_count": 25,
   "id": "bffc66e3",
   "metadata": {},
   "outputs": [],
   "source": [
    "from sklearn.svm import SVC  \n",
    "clf = SVC(kernel='linear')"
   ]
  },
  {
   "cell_type": "code",
   "execution_count": 26,
   "id": "9ea7fd38",
   "metadata": {},
   "outputs": [
    {
     "data": {
      "text/plain": [
       "SVC(kernel='linear')"
      ]
     },
     "execution_count": 26,
     "metadata": {},
     "output_type": "execute_result"
    }
   ],
   "source": [
    "clf.fit(X_train,y_train)"
   ]
  },
  {
   "cell_type": "code",
   "execution_count": 27,
   "id": "3af8c707",
   "metadata": {},
   "outputs": [],
   "source": [
    "y_pred=clf.predict(X_test)"
   ]
  },
  {
   "cell_type": "code",
   "execution_count": 28,
   "id": "3fd7570f",
   "metadata": {},
   "outputs": [
    {
     "data": {
      "text/plain": [
       "array([326, 582, 582, 896, 676, 851, 109, 109, 583, 583, 230, 957, 889,\n",
       "       326, 582, 109,   9, 255, 730, 851, 582, 168, 582, 255, 582, 326,\n",
       "        41, 582, 650, 722, 255, 486, 109, 255, 594, 664, 695, 582, 748,\n",
       "       617, 326, 934, 338,  63, 109, 326, 338,  63, 109, 255, 255, 326,\n",
       "        41, 896, 428, 230, 484, 109, 326, 460, 617, 428, 326, 777, 326,\n",
       "       255, 109, 255, 109, 820, 326, 650, 957, 255, 326, 255, 428, 957,\n",
       "       640, 109, 684, 255, 759, 109, 582,  36, 230,  41, 679, 582, 582,\n",
       "       326, 582,  81, 960, 734,  41, 736, 109, 326, 230, 326, 109, 230,\n",
       "       109, 794, 230, 109,  63, 621, 230, 660, 960, 640, 230, 583, 326,\n",
       "       582, 230, 255, 326, 255, 759, 934, 896, 960, 255, 837, 820, 697,\n",
       "       255, 960, 326, 255, 109, 109, 109, 640, 255, 582, 639, 326, 109,\n",
       "       326, 326, 582, 851, 660,  96, 428, 326, 255, 953, 109, 738, 582,\n",
       "       109, 326, 734, 582, 255, 964, 664, 691, 664,  22,  63, 773, 863,\n",
       "       953, 109, 851, 759, 734, 230, 109, 428, 582, 255, 582, 428, 109,\n",
       "       230, 326, 230, 255, 902,  36, 255, 326, 255, 583, 738, 230, 582,\n",
       "       639, 109,  81, 864, 582, 582, 109, 960, 109, 582, 109, 428, 820,\n",
       "       722, 598, 255, 326, 326, 109, 737, 682, 255, 272, 792, 255, 837,\n",
       "       326, 582, 937, 326, 720, 109, 255, 255, 326, 696, 109, 109, 583,\n",
       "       109, 230, 255, 326, 109, 255, 255, 109, 326, 582, 230,  96, 326,\n",
       "       326, 820, 326, 740, 583, 109, 255, 582, 851, 326, 255, 250, 876,\n",
       "       582, 230, 326, 109, 679, 326, 820,  81, 582, 255, 836, 255, 109,\n",
       "       255, 255, 168, 255, 934, 255, 109, 837, 109, 684, 730, 835, 582,\n",
       "       109, 255, 326, 109,  31, 326, 957, 109, 326, 660, 150, 326, 109,\n",
       "       320, 582, 109, 326, 767, 583,  36,  63, 960, 759, 460, 660, 255,\n",
       "       884, 707,  36, 582, 617, 255, 255, 582, 583, 583, 109, 109, 109,\n",
       "       582, 953, 109, 320, 326, 582, 272, 594, 571, 625, 326, 759, 109,\n",
       "       743, 837], dtype=int64)"
      ]
     },
     "execution_count": 28,
     "metadata": {},
     "output_type": "execute_result"
    }
   ],
   "source": [
    "y_pred"
   ]
  },
  {
   "cell_type": "code",
   "execution_count": 31,
   "id": "4e0ebc7f",
   "metadata": {},
   "outputs": [
    {
     "data": {
      "text/html": [
       "<div>\n",
       "<style scoped>\n",
       "    .dataframe tbody tr th:only-of-type {\n",
       "        vertical-align: middle;\n",
       "    }\n",
       "\n",
       "    .dataframe tbody tr th {\n",
       "        vertical-align: top;\n",
       "    }\n",
       "\n",
       "    .dataframe thead th {\n",
       "        text-align: right;\n",
       "    }\n",
       "</style>\n",
       "<table border=\"1\" class=\"dataframe\">\n",
       "  <thead>\n",
       "    <tr style=\"text-align: right;\">\n",
       "      <th></th>\n",
       "      <th>model</th>\n",
       "      <th>accuracy</th>\n",
       "    </tr>\n",
       "  </thead>\n",
       "  <tbody>\n",
       "    <tr>\n",
       "      <th>0</th>\n",
       "      <td>logistic regressiong</td>\n",
       "      <td>0.017647</td>\n",
       "    </tr>\n",
       "    <tr>\n",
       "      <th>1</th>\n",
       "      <td>SVC</td>\n",
       "      <td>0.044118</td>\n",
       "    </tr>\n",
       "  </tbody>\n",
       "</table>\n",
       "</div>"
      ],
      "text/plain": [
       "                  model  accuracy\n",
       "0  logistic regressiong  0.017647\n",
       "1                   SVC  0.044118"
      ]
     },
     "execution_count": 31,
     "metadata": {},
     "output_type": "execute_result"
    }
   ],
   "source": [
    "# initialize list of lists\n",
    "m = [['logistic regressiong', 0.01764705882352941], ['SVC',0.04411764705882353]]\n",
    "  \n",
    "# Create the pandas DataFrame\n",
    "m = pd.DataFrame(m, columns=['model', 'accuracy'])\n",
    "  \n",
    "# print dataframe.\n",
    "m"
   ]
  },
  {
   "cell_type": "code",
   "execution_count": null,
   "id": "ea9c2af0",
   "metadata": {},
   "outputs": [],
   "source": [
    "step 6"
   ]
  },
  {
   "cell_type": "code",
   "execution_count": 35,
   "id": "c150b67c",
   "metadata": {},
   "outputs": [
    {
     "name": "stdout",
     "output_type": "stream",
     "text": [
      "Results of Errors:\n",
      " MSE: 64620.94535430326\n",
      " R-Squared: 0.16079455618713523\n",
      "\n",
      "\n",
      "Values of Model Parameters:\n",
      " Coefficient [1.78618809]\n",
      " Intercept: 446.9593760635914\n"
     ]
    }
   ],
   "source": [
    "import sklearn.metrics as metrics\n",
    "lr = LinearRegression()\n",
    "lr.fit(X_train,y_train)\n",
    "y_pred =lr.predict(X_test)\n",
    "mse = metrics.mean_squared_error(y_test, y_pred)\n",
    "r2 = metrics.r2_score(y_test, y_pred)\n",
    "# Printing the Results\n",
    "print(\"Results of Errors:\")\n",
    "print(\" MSE:\", mse)\n",
    "print(\" R-Squared:\", r2)\n",
    "print('\\n')\n",
    "print(\"Values of Model Parameters:\")\n",
    "print(\" Coefficient\", lr.coef_)\n",
    "print(\" Intercept:\", lr.intercept_)"
   ]
  },
  {
   "cell_type": "code",
   "execution_count": null,
   "id": "5aec910e",
   "metadata": {},
   "outputs": [],
   "source": []
  },
  {
   "cell_type": "code",
   "execution_count": null,
   "id": "7f677c93",
   "metadata": {},
   "outputs": [],
   "source": []
  },
  {
   "cell_type": "code",
   "execution_count": null,
   "id": "99ab8e1d",
   "metadata": {},
   "outputs": [],
   "source": []
  },
  {
   "cell_type": "code",
   "execution_count": null,
   "id": "4807c5a7",
   "metadata": {},
   "outputs": [],
   "source": []
  },
  {
   "cell_type": "code",
   "execution_count": null,
   "id": "1fcd4121",
   "metadata": {},
   "outputs": [],
   "source": []
  },
  {
   "cell_type": "code",
   "execution_count": null,
   "id": "66f36932",
   "metadata": {},
   "outputs": [],
   "source": []
  },
  {
   "cell_type": "code",
   "execution_count": null,
   "id": "4f641b4d",
   "metadata": {},
   "outputs": [],
   "source": []
  },
  {
   "cell_type": "code",
   "execution_count": null,
   "id": "cfe2e269",
   "metadata": {},
   "outputs": [],
   "source": []
  },
  {
   "cell_type": "code",
   "execution_count": null,
   "id": "414d17b1",
   "metadata": {},
   "outputs": [],
   "source": []
  },
  {
   "cell_type": "code",
   "execution_count": null,
   "id": "c94a88e9",
   "metadata": {},
   "outputs": [],
   "source": []
  },
  {
   "cell_type": "code",
   "execution_count": null,
   "id": "dc78d099",
   "metadata": {},
   "outputs": [],
   "source": []
  },
  {
   "cell_type": "code",
   "execution_count": null,
   "id": "b6d738b7",
   "metadata": {},
   "outputs": [],
   "source": []
  }
 ],
 "metadata": {
  "kernelspec": {
   "display_name": "Python 3 (ipykernel)",
   "language": "python",
   "name": "python3"
  },
  "language_info": {
   "codemirror_mode": {
    "name": "ipython",
    "version": 3
   },
   "file_extension": ".py",
   "mimetype": "text/x-python",
   "name": "python",
   "nbconvert_exporter": "python",
   "pygments_lexer": "ipython3",
   "version": "3.9.13"
  }
 },
 "nbformat": 4,
 "nbformat_minor": 5
}
